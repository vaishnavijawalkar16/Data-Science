{
 "cells": [
  {
   "cell_type": "code",
   "execution_count": 8,
   "id": "8ea288de-09cb-458f-88b3-38da62d2375c",
   "metadata": {},
   "outputs": [],
   "source": [
    "# Data Science Tools and Ecosystem"
   ]
  },
  {
   "cell_type": "markdown",
   "id": "c1c266bc-06a0-4cfc-9251-b7a738095654",
   "metadata": {},
   "source": [
    "In this notebook, Data Science Tools and Ecosystem are summarized."
   ]
  },
  {
   "cell_type": "markdown",
   "id": "5e14b1e7-7ac2-4795-871a-ac4e6e5fe2d9",
   "metadata": {},
   "source": [
    "**Objectives:**\n",
    "* Some of the popular languages that Data Scientists use\n",
    "* Some of the commonly used libraries used by Data Scientists\n",
    "* Data Science Tools\n",
    "* evaluating arithmetic expressions in Python."
   ]
  },
  {
   "cell_type": "markdown",
   "id": "ddd3764b-4d15-4cf3-9db3-8c70453b0736",
   "metadata": {},
   "source": [
    "Some of the popular languages that Data Scientists use are:\n",
    "1. Python\n",
    "2. R\n",
    "3. SQL"
   ]
  },
  {
   "cell_type": "markdown",
   "id": "812e4b61-b87f-4f90-9213-ea91499ecbe9",
   "metadata": {},
   "source": [
    "Some of the commonly used libraries used by Data Scientists include:\n",
    "1. Numpy\n",
    "2. Pandas\n",
    "3. Matplotlib\n",
    "4. sciPy\n",
    "5. TensorFlow\n",
    "6. Keras\n",
    "7. Seaborn\n"
   ]
  },
  {
   "cell_type": "markdown",
   "id": "9fed32cd-61f0-4c9a-b6ab-6d33e3df5be9",
   "metadata": {},
   "source": [
    "Data Science Tools\n",
    "|Data Science Tools|\n",
    "|-------|\n",
    "|Tableau|\n",
    "|TensorFlow|\n",
    "|Apache Spark|\n",
    "|Apache Hadoop|"
   ]
  },
  {
   "cell_type": "markdown",
   "id": "dd0b7a62-db3d-4236-916b-65a8049a1737",
   "metadata": {},
   "source": [
    "### Below are a few examples of evaluating arithmetic expressions in Python."
   ]
  },
  {
   "cell_type": "code",
   "execution_count": 9,
   "id": "5a0d007e-becc-4ec7-9a51-853f607bee5f",
   "metadata": {},
   "outputs": [
    {
     "data": {
      "text/plain": [
       "17"
      ]
     },
     "execution_count": 9,
     "metadata": {},
     "output_type": "execute_result"
    }
   ],
   "source": [
    "#This a simple arithmetic expression to mutiply then add integers\n",
    "(3*4)+5"
   ]
  },
  {
   "cell_type": "code",
   "execution_count": 10,
   "id": "53dfcc78-8410-47dd-a14c-a2975192c282",
   "metadata": {},
   "outputs": [
    {
     "data": {
      "text/plain": [
       "3.3333333333333335"
      ]
     },
     "execution_count": 10,
     "metadata": {},
     "output_type": "execute_result"
    }
   ],
   "source": [
    "#This will convert 200 minutes to hours by diving by 60\n",
    "200 / 60"
   ]
  },
  {
   "cell_type": "markdown",
   "id": "505db8bc-8180-49b3-b81b-18111f501200",
   "metadata": {},
   "source": [
    "## Author\n",
    "Vaishnavi Jawalkar"
   ]
  },
  {
   "cell_type": "code",
   "execution_count": null,
   "id": "37f374d7-8d3c-457f-ad97-8e687d895c0a",
   "metadata": {},
   "outputs": [],
   "source": []
  }
 ],
 "metadata": {
  "kernelspec": {
   "display_name": "Python 3 (ipykernel)",
   "language": "python",
   "name": "python3"
  },
  "language_info": {
   "codemirror_mode": {
    "name": "ipython",
    "version": 3
   },
   "file_extension": ".py",
   "mimetype": "text/x-python",
   "name": "python",
   "nbconvert_exporter": "python",
   "pygments_lexer": "ipython3",
   "version": "3.12.7"
  }
 },
 "nbformat": 4,
 "nbformat_minor": 5
}
